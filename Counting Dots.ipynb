{
 "cells": [
  {
   "cell_type": "markdown",
   "metadata": {},
   "source": [
    "Copyright (c) 2000 Jabavu W. Adams"
   ]
  },
  {
   "cell_type": "code",
   "execution_count": 1,
   "metadata": {},
   "outputs": [],
   "source": [
    "import numpy as np\n",
    "import tensorflow as tf"
   ]
  },
  {
   "cell_type": "code",
   "execution_count": 2,
   "metadata": {},
   "outputs": [
    {
     "name": "stdout",
     "output_type": "stream",
     "text": [
      "2.2.0\n",
      "2.3.0-tf\n"
     ]
    }
   ],
   "source": [
    "print(tf.__version__)\n",
    "print(tf.keras.__version__)"
   ]
  },
  {
   "cell_type": "code",
   "execution_count": 3,
   "metadata": {},
   "outputs": [],
   "source": [
    "import matplotlib.pyplot as plt\n",
    "plt.rcParams['figure.figsize'] = (16, 8)"
   ]
  },
  {
   "cell_type": "markdown",
   "metadata": {},
   "source": [
    "Load Images\n",
    "=="
   ]
  },
  {
   "cell_type": "code",
   "execution_count": 4,
   "metadata": {},
   "outputs": [
    {
     "name": "stdout",
     "output_type": "stream",
     "text": [
      "7.2.0\n"
     ]
    }
   ],
   "source": [
    "import PIL\n",
    "print(PIL.__version__)\n",
    "from PIL import Image\n",
    "from PIL import ImageOps"
   ]
  },
  {
   "cell_type": "code",
   "execution_count": 5,
   "metadata": {},
   "outputs": [],
   "source": [
    "import os\n",
    "\n",
    "DATA_ROOT = os.path.expanduser('~/devel/polkaspots/polkaspots_dataset')\n",
    "DATA_PARENT = os.path.abspath(os.path.join(DATA_ROOT, '..'))\n",
    "\n",
    "IMG_ROOT = os.path.join(DATA_ROOT, 'images')\n",
    "POS_ROOT = os.path.join(DATA_ROOT, 'positions')"
   ]
  },
  {
   "cell_type": "code",
   "execution_count": 6,
   "metadata": {},
   "outputs": [
    {
     "name": "stdout",
     "output_type": "stream",
     "text": [
      "radius: 2 -> 40\n"
     ]
    }
   ],
   "source": [
    "import glob\n",
    "import re\n",
    "import zipfile\n",
    "\n",
    "radii = []\n",
    "dot_counts = []\n",
    "\n",
    "zip_files = glob.glob(os.path.join(IMG_ROOT, 'radius*.zip'))\n",
    "for zf in zip_files:\n",
    "    unzipped_file_name = os.path.splitext(zf)[0]\n",
    "    if not os.path.exists(unzipped_file_name):\n",
    "        with zipfile.ZipFile(zf, 'r') as zip_ref:\n",
    "            zip_ref.extractall(DATA_PARENT)\n",
    "\n",
    "    m = re.search('radius([0-9]+)', unzipped_file_name)\n",
    "    assert(m)\n",
    "    radius = int(m[1])\n",
    "    radii.append(radius)\n",
    "\n",
    "max_radius = max(radii)\n",
    "min_radius = min(radii)\n",
    "print(f'radius: {min_radius} -> {max_radius}')"
   ]
  },
  {
   "cell_type": "code",
   "execution_count": 7,
   "metadata": {},
   "outputs": [
    {
     "name": "stdout",
     "output_type": "stream",
     "text": [
      "2 2\n"
     ]
    }
   ],
   "source": [
    "for radius in range(min_radius, max_radius+1):\n",
    "    if not len(dot_counts):\n",
    "        unzipped_dirs = glob.glob(os.path.join(IMG_ROOT, f'radius{radius:02d}/*'))\n",
    "        assert(len(unzipped_dirs))\n",
    "        for uzd in unzipped_dirs:\n",
    "            first_unzipped_dir = unzipped_dirs[0]\n",
    "            m = re.search('radius([0-9]+)', first_unzipped_dir)\n",
    "            dot_counts.append(int(m[1]))\n",
    "        \n",
    "min_dot_count = min(dot_counts)\n",
    "max_dot_count = max(dot_counts)\n",
    "print(min_dot_count, max_dot_count)"
   ]
  },
  {
   "cell_type": "code",
   "execution_count": 8,
   "metadata": {},
   "outputs": [],
   "source": [
    "def image_count(nb_dots, radius):\n",
    "    \"\"\"Return the number of images containing the given number of dots of the given radius.\"\"\"\n",
    "    containing_path = os.path.join(IMG_ROOT, f'radius{radius:02d}', f'{nb_dots:02d}')\n",
    "    file_wildcard = f'dots_radius_{radius}_count_{nb_dots:02d}_*.png'\n",
    "    filenames = glob.glob(os.path.join(containing_path, file_wildcard))\n",
    "    return len(filenames)"
   ]
  },
  {
   "cell_type": "code",
   "execution_count": 9,
   "metadata": {},
   "outputs": [],
   "source": [
    "def get_image(nb_dots, radius, i):\n",
    "    \"\"\"Get the ith image with the given number of dots of the given radius. Returns a PIL.Image\"\"\"\n",
    "    containing_folder = os.path.join(IMG_ROOT, f'radius{radius:02d}', f'{nb_dots:02d}')\n",
    "    filename = f'dots_radius_{radius}_count_{nb_dots:02d}_{i:05d}.png'\n",
    "    return Image.open(os.path.join(containing_folder, filename))"
   ]
  },
  {
   "cell_type": "code",
   "execution_count": 10,
   "metadata": {},
   "outputs": [],
   "source": [
    "im = get_image(7, 20, 42)"
   ]
  },
  {
   "cell_type": "code",
   "execution_count": 11,
   "metadata": {},
   "outputs": [
    {
     "name": "stdout",
     "output_type": "stream",
     "text": [
      "PNG\n",
      "RGB\n",
      "(256, 256)\n"
     ]
    },
    {
     "data": {
      "image/png": "[encoded data removed]",
      "text/plain": [
       "<PIL.PngImagePlugin.PngImageFile image mode=RGB size=256x256 at 0x7F35AD34BCA0>"
      ]
     },
     "execution_count": 11,
     "metadata": {},
     "output_type": "execute_result"
    }
   ],
   "source": [
    "print(im.format)\n",
    "print(im.mode)\n",
    "print(im.size)\n",
    "im"
   ]
  },
  {
   "cell_type": "code",
   "execution_count": 12,
   "metadata": {},
   "outputs": [
    {
     "name": "stdout",
     "output_type": "stream",
     "text": [
      "L\n",
      "(256, 256)\n"
     ]
    }
   ],
   "source": [
    "# Convert to from RGB to grayscale\n",
    "im = im.convert(mode='L')\n",
    "print(im.mode)\n",
    "print(im.size)\n",
    "\n",
    "# Invert image so blobs are high and background is low\n",
    "im = ImageOps.invert(im)\n",
    "im.show()"
   ]
  },
  {
   "cell_type": "code",
   "execution_count": 13,
   "metadata": {},
   "outputs": [
    {
     "name": "stdout",
     "output_type": "stream",
     "text": [
      "[[0. 0. 0. ... 0. 0. 0.]\n",
      " [0. 0. 0. ... 0. 0. 0.]\n",
      " [0. 0. 0. ... 0. 0. 0.]\n",
      " ...\n",
      " [0. 0. 0. ... 0. 0. 0.]\n",
      " [0. 0. 0. ... 0. 0. 0.]\n",
      " [0. 0. 0. ... 0. 0. 0.]]\n"
     ]
    }
   ],
   "source": [
    "# Convert to numpy array and convert values from 0 -> 255 to 0.0 -> 1.0\n",
    "x = np.asarray(im) / 255.0\n",
    "print(x)"
   ]
  },
  {
   "cell_type": "code",
   "execution_count": 14,
   "metadata": {},
   "outputs": [],
   "source": [
    "def array_for_image(nb_dots, radius, i):\n",
    "    \"\"\"Get the ith image with the given number of dots of the given radius. Returns a NumPy array of float.\n",
    "    The array is one channel (grayscale), background pixels are 0.0, and dot pixels are 1.0.\"\"\"\n",
    "    im = get_image(nb_dots, radius, i)\n",
    "    im = im.convert(mode='L')\n",
    "    im = ImageOps.invert(im)\n",
    "    return np.asarray(im) / 255.0"
   ]
  },
  {
   "cell_type": "code",
   "execution_count": 15,
   "metadata": {},
   "outputs": [
    {
     "data": {
      "text/plain": [
       "array([[0., 0., 0., ..., 0., 0., 0.],\n",
       "       [0., 0., 0., ..., 0., 0., 0.],\n",
       "       [0., 0., 0., ..., 0., 0., 0.],\n",
       "       ...,\n",
       "       [0., 0., 0., ..., 0., 0., 0.],\n",
       "       [0., 0., 0., ..., 0., 0., 0.],\n",
       "       [0., 0., 0., ..., 0., 0., 0.]])"
      ]
     },
     "execution_count": 15,
     "metadata": {},
     "output_type": "execute_result"
    }
   ],
   "source": [
    "array_for_image(8, 32, 100)"
   ]
  },
  {
   "cell_type": "markdown",
   "metadata": {},
   "source": [
    "# Create training, validation, and test dataset splits"
   ]
  },
  {
   "cell_type": "code",
   "execution_count": 16,
   "metadata": {},
   "outputs": [],
   "source": [
    "import hickle as hkl"
   ]
  },
  {
   "cell_type": "code",
   "execution_count": 17,
   "metadata": {},
   "outputs": [],
   "source": [
    "# from sklearn.model_selection import train_test_split\n",
    "\n",
    "# image_arrays = []\n",
    "# dot_counts = []\n",
    "# for radius in range(2, 40+1):\n",
    "#     print(radius)\n",
    "#     for nb_dots in range(10+1):\n",
    "#         #print(nb_dots)\n",
    "#         for i in range(image_count(nb_dots, radius)):\n",
    "#             image_arrays.append(array_for_image(nb_dots, radius, i))\n",
    "#             dot_counts.append(nb_dots)\n",
    "\n",
    "# nb_all_images = len(image_arrays)\n",
    "                 \n",
    "# inputs = np.zeros((nb_all_images, image_arrays[0].shape[0], image_arrays[0].shape[1], 1), np.uint8)\n",
    "# labels = np.zeros((nb_all_images, 1), np.uint8)\n",
    "\n",
    "# for i in range(nb_all_images):\n",
    "#     inputs[i] = image_arrays[i].reshape((image_arrays[0].shape[0], image_arrays[0].shape[1], 1))\n",
    "#     labels[i] = dot_counts[i]\n",
    "\n",
    "# del image_arrays\n",
    "# del dot_counts\n",
    "\n",
    "# (trainX, testX, trainY, testY) = train_test_split(inputs, labels, test_size=0.2, random_state=301)\n",
    "\n",
    "# hkl.dump(trainX, 'X_train.hkl')\n",
    "# del trainX\n",
    "\n",
    "# hkl.dump(trainY, 'Y_train.hkl')\n",
    "# del trainY\n",
    "\n",
    "# hkl.dump(testX, 'X_test.hkl')\n",
    "# del testX\n",
    "\n",
    "# hkl.dump(testY, 'Y_test.hkl')\n",
    "# del testY\n"
   ]
  },
  {
   "cell_type": "code",
   "execution_count": 18,
   "metadata": {},
   "outputs": [],
   "source": [
    "X_train = hkl.load('X_train.hkl')\n",
    "Y_train = hkl.load('Y_train.hkl')"
   ]
  },
  {
   "cell_type": "markdown",
   "metadata": {},
   "source": [
    "# Build Model and Train"
   ]
  },
  {
   "cell_type": "code",
   "execution_count": 19,
   "metadata": {},
   "outputs": [
    {
     "name": "stdout",
     "output_type": "stream",
     "text": [
      "Model: \"sequential\"\n",
      "_________________________________________________________________\n",
      "Layer (type)                 Output Shape              Param #   \n",
      "=================================================================\n",
      "conv2d (Conv2D)              (None, 250, 250, 32)      1600      \n",
      "_________________________________________________________________\n",
      "max_pooling2d (MaxPooling2D) (None, 125, 125, 32)      0         \n",
      "_________________________________________________________________\n",
      "conv2d_1 (Conv2D)            (None, 123, 123, 32)      9248      \n",
      "_________________________________________________________________\n",
      "max_pooling2d_1 (MaxPooling2 (None, 61, 61, 32)        0         \n",
      "_________________________________________________________________\n",
      "conv2d_2 (Conv2D)            (None, 59, 59, 32)        9248      \n",
      "_________________________________________________________________\n",
      "max_pooling2d_2 (MaxPooling2 (None, 29, 29, 32)        0         \n",
      "_________________________________________________________________\n",
      "conv2d_3 (Conv2D)            (None, 27, 27, 32)        9248      \n",
      "_________________________________________________________________\n",
      "max_pooling2d_3 (MaxPooling2 (None, 13, 13, 32)        0         \n",
      "_________________________________________________________________\n",
      "conv2d_4 (Conv2D)            (None, 11, 11, 32)        9248      \n",
      "_________________________________________________________________\n",
      "max_pooling2d_4 (MaxPooling2 (None, 5, 5, 32)          0         \n",
      "_________________________________________________________________\n",
      "conv2d_5 (Conv2D)            (None, 3, 3, 32)          9248      \n",
      "_________________________________________________________________\n",
      "flatten (Flatten)            (None, 288)               0         \n",
      "_________________________________________________________________\n",
      "dense (Dense)                (None, 512)               147968    \n",
      "=================================================================\n",
      "Total params: 195,808\n",
      "Trainable params: 195,808\n",
      "Non-trainable params: 0\n",
      "_________________________________________________________________\n"
     ]
    }
   ],
   "source": [
    "from tensorflow import keras\n",
    "from tensorflow.keras import layers\n",
    "\n",
    "n_rows = X_train.shape[1]\n",
    "n_cols = X_train.shape[2]\n",
    "\n",
    "width_px = n_cols\n",
    "height_px = n_rows\n",
    "\n",
    "model = keras.Sequential()\n",
    "model.add(layers.Conv2D(32, (7, 7), activation=\"relu\", input_shape=(n_rows, n_cols, 1)))\n",
    "model.add(layers.MaxPooling2D(pool_size=(2,2)))\n",
    "model.add(layers.Conv2D(32, (3, 3), activation=\"relu\"))\n",
    "model.add(layers.MaxPooling2D(pool_size=(2,2)))\n",
    "model.add(layers.Conv2D(32, (3, 3), activation=\"relu\"))\n",
    "model.add(layers.MaxPooling2D(pool_size=(2,2)))\n",
    "model.add(layers.Conv2D(32, (3, 3), activation=\"relu\"))\n",
    "model.add(layers.MaxPooling2D(pool_size=(2,2)))\n",
    "model.add(layers.Conv2D(32, (3, 3), activation=\"relu\"))\n",
    "model.add(layers.MaxPooling2D(pool_size=(2,2)))\n",
    "model.add(layers.Conv2D(32, (3, 3), activation=\"relu\"))\n",
    "model.add(layers.Flatten())\n",
    "model.add(layers.Dense(512, activation=\"relu\"))\n",
    "model.summary()"
   ]
  },
  {
   "cell_type": "code",
   "execution_count": 20,
   "metadata": {},
   "outputs": [],
   "source": [
    "model.compile(optimizer=\"adam\", loss=\"MeanSquaredError\")"
   ]
  },
  {
   "cell_type": "markdown",
   "metadata": {},
   "source": [
    "## Load existing model (if any) and continue training."
   ]
  },
  {
   "cell_type": "code",
   "execution_count": 26,
   "metadata": {},
   "outputs": [],
   "source": [
    "from tensorflow.keras.models import load_model\n",
    "\n",
    "model_files = glob.glob('./models/polkaspots_epoch_*.hdf5')\n",
    "if len(model_files):\n",
    "    model_epochs = [int(fn_[-8:-5]) for fn_ in model_files]\n",
    "    highest_completed_epoch = max(model_epochs)\n",
    "    model = load_model(f'./models/polkaspots_epoch_{highest_completed_epoch:03d}.hdf5')\n",
    "else:\n",
    "    highest_completed_epoch = 0"
   ]
  },
  {
   "cell_type": "code",
   "execution_count": null,
   "metadata": {},
   "outputs": [
    {
     "name": "stdout",
     "output_type": "stream",
     "text": [
      "Epoch 2/10\n",
      "3432/3432 [==============================] - 1648s 480ms/step - loss: 0.5477\n",
      "Epoch 3/10\n",
      "2648/3432 [======================>.......] - ETA: 6:16 - loss: 0.4549"
     ]
    }
   ],
   "source": [
    "from tensorflow.keras.callbacks import ModelCheckpoint\n",
    "\n",
    "callbacks = []\n",
    "callbacks.append(ModelCheckpoint(filepath='./models/polkaspots_epoch_{epoch:03d}.hdf5', monitor='val_loss'))\n",
    "\n",
    "history = model.fit(X_train, Y_train, batch_size=20, epochs=10, initial_epoch=highest_completed_epoch, callbacks=callbacks)"
   ]
  },
  {
   "cell_type": "code",
   "execution_count": null,
   "metadata": {},
   "outputs": [],
   "source": []
  }
 ],
 "metadata": {
  "kernelspec": {
   "display_name": "DLGfx",
   "language": "python",
   "name": "dlgfx"
  },
  "language_info": {
   "codemirror_mode": {
    "name": "ipython",
    "version": 3
   },
   "file_extension": ".py",
   "mimetype": "text/x-python",
   "name": "python",
   "nbconvert_exporter": "python",
   "pygments_lexer": "ipython3",
   "version": "3.8.3"
  }
 },
 "nbformat": 4,
 "nbformat_minor": 2
}
